{
 "cells": [
  {
   "cell_type": "code",
   "execution_count": 1,
   "id": "caea79d0",
   "metadata": {},
   "outputs": [],
   "source": [
    "# Algoritm de clustering si anume gmm\n",
    "import numpy as np\n",
    "import pandas as pd\n",
    "import seaborn as sns\n",
    "import matplotlib.pyplot as plt "
   ]
  },
  {
   "cell_type": "code",
   "execution_count": 2,
   "id": "85110170",
   "metadata": {},
   "outputs": [],
   "source": [
    "df=pd.read_csv('Wholecust.csv')"
   ]
  },
  {
   "cell_type": "code",
   "execution_count": 3,
   "id": "6279a78b",
   "metadata": {},
   "outputs": [
    {
     "data": {
      "text/html": [
       "<div>\n",
       "<style scoped>\n",
       "    .dataframe tbody tr th:only-of-type {\n",
       "        vertical-align: middle;\n",
       "    }\n",
       "\n",
       "    .dataframe tbody tr th {\n",
       "        vertical-align: top;\n",
       "    }\n",
       "\n",
       "    .dataframe thead th {\n",
       "        text-align: right;\n",
       "    }\n",
       "</style>\n",
       "<table border=\"1\" class=\"dataframe\">\n",
       "  <thead>\n",
       "    <tr style=\"text-align: right;\">\n",
       "      <th></th>\n",
       "      <th>Channel</th>\n",
       "      <th>Region</th>\n",
       "      <th>Fresh</th>\n",
       "      <th>Milk</th>\n",
       "      <th>Grocery</th>\n",
       "      <th>Frozen</th>\n",
       "      <th>Detergents_Paper</th>\n",
       "      <th>Delicassen</th>\n",
       "    </tr>\n",
       "  </thead>\n",
       "  <tbody>\n",
       "    <tr>\n",
       "      <th>0</th>\n",
       "      <td>2</td>\n",
       "      <td>3</td>\n",
       "      <td>12669</td>\n",
       "      <td>9656</td>\n",
       "      <td>7561</td>\n",
       "      <td>214</td>\n",
       "      <td>2674</td>\n",
       "      <td>1338</td>\n",
       "    </tr>\n",
       "    <tr>\n",
       "      <th>1</th>\n",
       "      <td>2</td>\n",
       "      <td>3</td>\n",
       "      <td>7057</td>\n",
       "      <td>9810</td>\n",
       "      <td>9568</td>\n",
       "      <td>1762</td>\n",
       "      <td>3293</td>\n",
       "      <td>1776</td>\n",
       "    </tr>\n",
       "    <tr>\n",
       "      <th>2</th>\n",
       "      <td>2</td>\n",
       "      <td>3</td>\n",
       "      <td>6353</td>\n",
       "      <td>8808</td>\n",
       "      <td>7684</td>\n",
       "      <td>2405</td>\n",
       "      <td>3516</td>\n",
       "      <td>7844</td>\n",
       "    </tr>\n",
       "    <tr>\n",
       "      <th>3</th>\n",
       "      <td>1</td>\n",
       "      <td>3</td>\n",
       "      <td>13265</td>\n",
       "      <td>1196</td>\n",
       "      <td>4221</td>\n",
       "      <td>6404</td>\n",
       "      <td>507</td>\n",
       "      <td>1788</td>\n",
       "    </tr>\n",
       "    <tr>\n",
       "      <th>4</th>\n",
       "      <td>2</td>\n",
       "      <td>3</td>\n",
       "      <td>22615</td>\n",
       "      <td>5410</td>\n",
       "      <td>7198</td>\n",
       "      <td>3915</td>\n",
       "      <td>1777</td>\n",
       "      <td>5185</td>\n",
       "    </tr>\n",
       "    <tr>\n",
       "      <th>...</th>\n",
       "      <td>...</td>\n",
       "      <td>...</td>\n",
       "      <td>...</td>\n",
       "      <td>...</td>\n",
       "      <td>...</td>\n",
       "      <td>...</td>\n",
       "      <td>...</td>\n",
       "      <td>...</td>\n",
       "    </tr>\n",
       "    <tr>\n",
       "      <th>435</th>\n",
       "      <td>1</td>\n",
       "      <td>3</td>\n",
       "      <td>29703</td>\n",
       "      <td>12051</td>\n",
       "      <td>16027</td>\n",
       "      <td>13135</td>\n",
       "      <td>182</td>\n",
       "      <td>2204</td>\n",
       "    </tr>\n",
       "    <tr>\n",
       "      <th>436</th>\n",
       "      <td>1</td>\n",
       "      <td>3</td>\n",
       "      <td>39228</td>\n",
       "      <td>1431</td>\n",
       "      <td>764</td>\n",
       "      <td>4510</td>\n",
       "      <td>93</td>\n",
       "      <td>2346</td>\n",
       "    </tr>\n",
       "    <tr>\n",
       "      <th>437</th>\n",
       "      <td>2</td>\n",
       "      <td>3</td>\n",
       "      <td>14531</td>\n",
       "      <td>15488</td>\n",
       "      <td>30243</td>\n",
       "      <td>437</td>\n",
       "      <td>14841</td>\n",
       "      <td>1867</td>\n",
       "    </tr>\n",
       "    <tr>\n",
       "      <th>438</th>\n",
       "      <td>1</td>\n",
       "      <td>3</td>\n",
       "      <td>10290</td>\n",
       "      <td>1981</td>\n",
       "      <td>2232</td>\n",
       "      <td>1038</td>\n",
       "      <td>168</td>\n",
       "      <td>2125</td>\n",
       "    </tr>\n",
       "    <tr>\n",
       "      <th>439</th>\n",
       "      <td>1</td>\n",
       "      <td>3</td>\n",
       "      <td>2787</td>\n",
       "      <td>1698</td>\n",
       "      <td>2510</td>\n",
       "      <td>65</td>\n",
       "      <td>477</td>\n",
       "      <td>52</td>\n",
       "    </tr>\n",
       "  </tbody>\n",
       "</table>\n",
       "<p>440 rows × 8 columns</p>\n",
       "</div>"
      ],
      "text/plain": [
       "     Channel  Region  Fresh   Milk  Grocery  Frozen  Detergents_Paper  \\\n",
       "0          2       3  12669   9656     7561     214              2674   \n",
       "1          2       3   7057   9810     9568    1762              3293   \n",
       "2          2       3   6353   8808     7684    2405              3516   \n",
       "3          1       3  13265   1196     4221    6404               507   \n",
       "4          2       3  22615   5410     7198    3915              1777   \n",
       "..       ...     ...    ...    ...      ...     ...               ...   \n",
       "435        1       3  29703  12051    16027   13135               182   \n",
       "436        1       3  39228   1431      764    4510                93   \n",
       "437        2       3  14531  15488    30243     437             14841   \n",
       "438        1       3  10290   1981     2232    1038               168   \n",
       "439        1       3   2787   1698     2510      65               477   \n",
       "\n",
       "     Delicassen  \n",
       "0          1338  \n",
       "1          1776  \n",
       "2          7844  \n",
       "3          1788  \n",
       "4          5185  \n",
       "..          ...  \n",
       "435        2204  \n",
       "436        2346  \n",
       "437        1867  \n",
       "438        2125  \n",
       "439          52  \n",
       "\n",
       "[440 rows x 8 columns]"
      ]
     },
     "execution_count": 3,
     "metadata": {},
     "output_type": "execute_result"
    }
   ],
   "source": [
    "df"
   ]
  },
  {
   "cell_type": "code",
   "execution_count": 4,
   "id": "f8a4df6a",
   "metadata": {},
   "outputs": [
    {
     "data": {
      "text/plain": [
       "3    316\n",
       "1     77\n",
       "2     47\n",
       "Name: Region, dtype: int64"
      ]
     },
     "execution_count": 4,
     "metadata": {},
     "output_type": "execute_result"
    }
   ],
   "source": [
    "df['Region'].value_counts()"
   ]
  },
  {
   "cell_type": "code",
   "execution_count": 5,
   "id": "93fca2ae",
   "metadata": {},
   "outputs": [
    {
     "data": {
      "text/plain": [
       "1    298\n",
       "2    142\n",
       "Name: Channel, dtype: int64"
      ]
     },
     "execution_count": 5,
     "metadata": {},
     "output_type": "execute_result"
    }
   ],
   "source": [
    "df['Channel'].value_counts()"
   ]
  },
  {
   "cell_type": "code",
   "execution_count": 6,
   "id": "2fbaee1a",
   "metadata": {},
   "outputs": [],
   "source": [
    "#coloana de email si adresa stergem\n",
    "df=df.drop(['Region','Channel'], axis=1)"
   ]
  },
  {
   "cell_type": "code",
   "execution_count": 7,
   "id": "18f68f68",
   "metadata": {},
   "outputs": [
    {
     "data": {
      "text/html": [
       "<div>\n",
       "<style scoped>\n",
       "    .dataframe tbody tr th:only-of-type {\n",
       "        vertical-align: middle;\n",
       "    }\n",
       "\n",
       "    .dataframe tbody tr th {\n",
       "        vertical-align: top;\n",
       "    }\n",
       "\n",
       "    .dataframe thead th {\n",
       "        text-align: right;\n",
       "    }\n",
       "</style>\n",
       "<table border=\"1\" class=\"dataframe\">\n",
       "  <thead>\n",
       "    <tr style=\"text-align: right;\">\n",
       "      <th></th>\n",
       "      <th>Fresh</th>\n",
       "      <th>Milk</th>\n",
       "      <th>Grocery</th>\n",
       "      <th>Frozen</th>\n",
       "      <th>Detergents_Paper</th>\n",
       "      <th>Delicassen</th>\n",
       "    </tr>\n",
       "  </thead>\n",
       "  <tbody>\n",
       "    <tr>\n",
       "      <th>0</th>\n",
       "      <td>12669</td>\n",
       "      <td>9656</td>\n",
       "      <td>7561</td>\n",
       "      <td>214</td>\n",
       "      <td>2674</td>\n",
       "      <td>1338</td>\n",
       "    </tr>\n",
       "    <tr>\n",
       "      <th>1</th>\n",
       "      <td>7057</td>\n",
       "      <td>9810</td>\n",
       "      <td>9568</td>\n",
       "      <td>1762</td>\n",
       "      <td>3293</td>\n",
       "      <td>1776</td>\n",
       "    </tr>\n",
       "    <tr>\n",
       "      <th>2</th>\n",
       "      <td>6353</td>\n",
       "      <td>8808</td>\n",
       "      <td>7684</td>\n",
       "      <td>2405</td>\n",
       "      <td>3516</td>\n",
       "      <td>7844</td>\n",
       "    </tr>\n",
       "    <tr>\n",
       "      <th>3</th>\n",
       "      <td>13265</td>\n",
       "      <td>1196</td>\n",
       "      <td>4221</td>\n",
       "      <td>6404</td>\n",
       "      <td>507</td>\n",
       "      <td>1788</td>\n",
       "    </tr>\n",
       "    <tr>\n",
       "      <th>4</th>\n",
       "      <td>22615</td>\n",
       "      <td>5410</td>\n",
       "      <td>7198</td>\n",
       "      <td>3915</td>\n",
       "      <td>1777</td>\n",
       "      <td>5185</td>\n",
       "    </tr>\n",
       "    <tr>\n",
       "      <th>...</th>\n",
       "      <td>...</td>\n",
       "      <td>...</td>\n",
       "      <td>...</td>\n",
       "      <td>...</td>\n",
       "      <td>...</td>\n",
       "      <td>...</td>\n",
       "    </tr>\n",
       "    <tr>\n",
       "      <th>435</th>\n",
       "      <td>29703</td>\n",
       "      <td>12051</td>\n",
       "      <td>16027</td>\n",
       "      <td>13135</td>\n",
       "      <td>182</td>\n",
       "      <td>2204</td>\n",
       "    </tr>\n",
       "    <tr>\n",
       "      <th>436</th>\n",
       "      <td>39228</td>\n",
       "      <td>1431</td>\n",
       "      <td>764</td>\n",
       "      <td>4510</td>\n",
       "      <td>93</td>\n",
       "      <td>2346</td>\n",
       "    </tr>\n",
       "    <tr>\n",
       "      <th>437</th>\n",
       "      <td>14531</td>\n",
       "      <td>15488</td>\n",
       "      <td>30243</td>\n",
       "      <td>437</td>\n",
       "      <td>14841</td>\n",
       "      <td>1867</td>\n",
       "    </tr>\n",
       "    <tr>\n",
       "      <th>438</th>\n",
       "      <td>10290</td>\n",
       "      <td>1981</td>\n",
       "      <td>2232</td>\n",
       "      <td>1038</td>\n",
       "      <td>168</td>\n",
       "      <td>2125</td>\n",
       "    </tr>\n",
       "    <tr>\n",
       "      <th>439</th>\n",
       "      <td>2787</td>\n",
       "      <td>1698</td>\n",
       "      <td>2510</td>\n",
       "      <td>65</td>\n",
       "      <td>477</td>\n",
       "      <td>52</td>\n",
       "    </tr>\n",
       "  </tbody>\n",
       "</table>\n",
       "<p>440 rows × 6 columns</p>\n",
       "</div>"
      ],
      "text/plain": [
       "     Fresh   Milk  Grocery  Frozen  Detergents_Paper  Delicassen\n",
       "0    12669   9656     7561     214              2674        1338\n",
       "1     7057   9810     9568    1762              3293        1776\n",
       "2     6353   8808     7684    2405              3516        7844\n",
       "3    13265   1196     4221    6404               507        1788\n",
       "4    22615   5410     7198    3915              1777        5185\n",
       "..     ...    ...      ...     ...               ...         ...\n",
       "435  29703  12051    16027   13135               182        2204\n",
       "436  39228   1431      764    4510                93        2346\n",
       "437  14531  15488    30243     437             14841        1867\n",
       "438  10290   1981     2232    1038               168        2125\n",
       "439   2787   1698     2510      65               477          52\n",
       "\n",
       "[440 rows x 6 columns]"
      ]
     },
     "execution_count": 7,
     "metadata": {},
     "output_type": "execute_result"
    }
   ],
   "source": [
    "df"
   ]
  },
  {
   "cell_type": "code",
   "execution_count": 8,
   "id": "ded0842a",
   "metadata": {},
   "outputs": [],
   "source": [
    "# extragem matricea x\n",
    "X = df.values"
   ]
  },
  {
   "cell_type": "code",
   "execution_count": 9,
   "id": "9056578d",
   "metadata": {},
   "outputs": [
    {
     "data": {
      "text/plain": [
       "array([[12669,  9656,  7561,   214,  2674,  1338],\n",
       "       [ 7057,  9810,  9568,  1762,  3293,  1776],\n",
       "       [ 6353,  8808,  7684,  2405,  3516,  7844],\n",
       "       ...,\n",
       "       [14531, 15488, 30243,   437, 14841,  1867],\n",
       "       [10290,  1981,  2232,  1038,   168,  2125],\n",
       "       [ 2787,  1698,  2510,    65,   477,    52]], dtype=int64)"
      ]
     },
     "execution_count": 9,
     "metadata": {},
     "output_type": "execute_result"
    }
   ],
   "source": [
    "X"
   ]
  },
  {
   "cell_type": "code",
   "execution_count": 10,
   "id": "0cd247b2",
   "metadata": {},
   "outputs": [],
   "source": [
    "# in cate grupe impartim data-setul nostru ...utilizam Silhouete_Score\n",
    "#importam functia sklearn\n",
    "from sklearn.metrics import silhouette_score \n",
    "from sklearn.mixture import GaussianMixture"
   ]
  },
  {
   "cell_type": "code",
   "execution_count": 11,
   "id": "6f459414",
   "metadata": {},
   "outputs": [],
   "source": [
    "# cream variabila scores in care vom pastra grupurile moastre\n",
    "scores = []\n",
    "for k in range(2,11):\n",
    "    gmm = GaussianMixture(n_components = k)\n",
    "    gmm.fit(X)\n",
    "    y_pred = gmm.predict(X)\n",
    "    scores.append(silhouette_score(X,y_pred))"
   ]
  },
  {
   "cell_type": "code",
   "execution_count": 12,
   "id": "7e24e474",
   "metadata": {},
   "outputs": [
    {
     "data": {
      "text/plain": [
       "[0.3977873958673807,\n",
       " 0.20627369858344732,\n",
       " 0.11768784777654508,\n",
       " 0.13552749587797935,\n",
       " 0.13035866718712644,\n",
       " 0.08513286740622894,\n",
       " 0.09343348994593587,\n",
       " 0.12442166376067391,\n",
       " 0.0547968783217739]"
      ]
     },
     "execution_count": 12,
     "metadata": {},
     "output_type": "execute_result"
    }
   ],
   "source": [
    "scores"
   ]
  },
  {
   "cell_type": "code",
   "execution_count": 14,
   "id": "846e124c",
   "metadata": {},
   "outputs": [
    {
     "data": {
      "text/plain": [
       "[<matplotlib.lines.Line2D at 0x18ffe53f588>]"
      ]
     },
     "execution_count": 14,
     "metadata": {},
     "output_type": "execute_result"
    },
    {
     "data": {
      "image/png": "[encoded data removed]",
      "text/plain": [
       "<Figure size 432x288 with 1 Axes>"
      ]
     },
     "metadata": {
      "needs_background": "light"
     },
     "output_type": "display_data"
    }
   ],
   "source": [
    "# sa facem un grafic pentru datele obtinute\n",
    "plt.plot(range(2,11), scores)"
   ]
  },
  {
   "cell_type": "code",
   "execution_count": 15,
   "id": "6ca86bd5",
   "metadata": {},
   "outputs": [],
   "source": [
    "# antrenam modelul GaussianMixture\n",
    "gmm = GaussianMixture(n_components = 5)"
   ]
  },
  {
   "cell_type": "code",
   "execution_count": 16,
   "id": "be91b607",
   "metadata": {},
   "outputs": [
    {
     "data": {
      "text/plain": [
       "GaussianMixture(n_components=5)"
      ]
     },
     "execution_count": 16,
     "metadata": {},
     "output_type": "execute_result"
    }
   ],
   "source": [
    "gmm.fit(X)"
   ]
  },
  {
   "cell_type": "code",
   "execution_count": 17,
   "id": "545f3ead",
   "metadata": {},
   "outputs": [],
   "source": [
    "y_pred = gmm.predict(X)"
   ]
  },
  {
   "cell_type": "code",
   "execution_count": 18,
   "id": "879b0d58",
   "metadata": {},
   "outputs": [
    {
     "data": {
      "text/plain": [
       "array([2, 2, 1, 0, 4, 2, 2, 2, 2, 2, 1, 0, 2, 2, 2, 2, 2, 4, 2, 2, 2, 0,\n",
       "       4, 1, 1, 2, 0, 0, 1, 4, 2, 2, 0, 4, 0, 2, 4, 2, 2, 4, 4, 2, 2, 2,\n",
       "       2, 1, 2, 1, 2, 1, 4, 2, 4, 2, 0, 2, 1, 2, 0, 2, 2, 1, 1, 2, 4, 1,\n",
       "       2, 2, 4, 0, 4, 1, 4, 4, 2, 0, 4, 2, 0, 2, 0, 2, 2, 0, 2, 1, 1, 3,\n",
       "       4, 4, 0, 0, 1, 3, 2, 2, 2, 0, 0, 0, 2, 2, 2, 4, 2, 0, 2, 2, 2, 1,\n",
       "       0, 2, 4, 0, 0, 0, 0, 2, 0, 0, 0, 0, 0, 2, 4, 3, 0, 2, 2, 4, 0, 0,\n",
       "       0, 0, 0, 0, 1, 2, 2, 2, 4, 4, 4, 0, 4, 1, 0, 2, 0, 0, 0, 2, 0, 2,\n",
       "       0, 2, 2, 0, 2, 2, 2, 2, 0, 2, 2, 1, 2, 2, 0, 0, 2, 1, 2, 2, 0, 2,\n",
       "       4, 2, 2, 4, 2, 3, 2, 3, 0, 2, 4, 1, 2, 2, 4, 0, 0, 1, 0, 4, 4, 2,\n",
       "       4, 0, 1, 1, 1, 2, 2, 2, 0, 2, 2, 2, 2, 1, 2, 2, 2, 2, 1, 0, 1, 0,\n",
       "       0, 2, 0, 0, 0, 0, 2, 0, 2, 0, 4, 2, 0, 2, 4, 2, 0, 4, 0, 4, 4, 0,\n",
       "       0, 2, 2, 2, 0, 0, 2, 4, 0, 1, 0, 4, 1, 0, 2, 1, 4, 4, 2, 0, 0, 1,\n",
       "       2, 1, 1, 4, 2, 0, 0, 2, 2, 4, 2, 0, 4, 4, 0, 2, 0, 2, 4, 4, 4, 4,\n",
       "       2, 0, 0, 4, 2, 0, 0, 2, 2, 2, 0, 2, 2, 0, 2, 2, 2, 2, 1, 2, 2, 0,\n",
       "       0, 1, 4, 4, 1, 0, 2, 1, 0, 2, 0, 1, 2, 0, 4, 2, 4, 3, 0, 0, 0, 0,\n",
       "       0, 2, 4, 1, 4, 2, 0, 0, 4, 4, 2, 2, 2, 1, 0, 2, 2, 2, 2, 2, 0, 1,\n",
       "       0, 2, 4, 0, 0, 1, 1, 2, 0, 0, 0, 2, 0, 2, 0, 0, 0, 0, 4, 0, 4, 2,\n",
       "       0, 0, 1, 4, 2, 2, 0, 4, 4, 0, 1, 0, 0, 0, 0, 0, 0, 2, 2, 4, 0, 0,\n",
       "       2, 0, 0, 0, 0, 4, 4, 4, 4, 0, 4, 2, 2, 1, 2, 4, 2, 4, 0, 2, 2, 2,\n",
       "       2, 2, 2, 2, 4, 2, 2, 4, 2, 4, 2, 2, 1, 4, 2, 2, 2, 4, 4, 1, 2, 0],\n",
       "      dtype=int64)"
      ]
     },
     "execution_count": 18,
     "metadata": {},
     "output_type": "execute_result"
    }
   ],
   "source": [
    "y_pred"
   ]
  },
  {
   "cell_type": "code",
   "execution_count": 20,
   "id": "a1988c15",
   "metadata": {},
   "outputs": [
    {
     "data": {
      "text/plain": [
       "array([[10477.03226095,  1449.89658513,  2134.61036578,  2676.91185499,\n",
       "          303.91088162,   638.04930686],\n",
       "       [ 8546.48587747, 16814.66623909, 23442.28113604,  2886.34043555,\n",
       "        10166.78535314,  3196.50864503],\n",
       "       [ 7286.10238223,  6401.45884094,  9484.05968361,  1020.88090609,\n",
       "         3885.46115005,  1176.59786094],\n",
       "       [52088.49333581, 16991.50373128, 11537.50122431, 28667.83668123,\n",
       "         1481.16686075, 13344.83676314],\n",
       "       [23061.96147013,  4005.31192526,  4471.15975296,  6094.0250743 ,\n",
       "          648.92191928,  1770.17835192]])"
      ]
     },
     "execution_count": 20,
     "metadata": {},
     "output_type": "execute_result"
    }
   ],
   "source": [
    "# ne permite sa extragem meens...vectori medii a diferitor clusteri\n",
    "gmm.means_"
   ]
  },
  {
   "cell_type": "code",
   "execution_count": 21,
   "id": "7112a3fe",
   "metadata": {},
   "outputs": [],
   "source": [
    "cluster_table = pd.DataFrame(gmm.means_, columns = df.columns)"
   ]
  },
  {
   "cell_type": "code",
   "execution_count": 22,
   "id": "8936a391",
   "metadata": {},
   "outputs": [
    {
     "data": {
      "text/html": [
       "<div>\n",
       "<style scoped>\n",
       "    .dataframe tbody tr th:only-of-type {\n",
       "        vertical-align: middle;\n",
       "    }\n",
       "\n",
       "    .dataframe tbody tr th {\n",
       "        vertical-align: top;\n",
       "    }\n",
       "\n",
       "    .dataframe thead th {\n",
       "        text-align: right;\n",
       "    }\n",
       "</style>\n",
       "<table border=\"1\" class=\"dataframe\">\n",
       "  <thead>\n",
       "    <tr style=\"text-align: right;\">\n",
       "      <th></th>\n",
       "      <th>Fresh</th>\n",
       "      <th>Milk</th>\n",
       "      <th>Grocery</th>\n",
       "      <th>Frozen</th>\n",
       "      <th>Detergents_Paper</th>\n",
       "      <th>Delicassen</th>\n",
       "    </tr>\n",
       "  </thead>\n",
       "  <tbody>\n",
       "    <tr>\n",
       "      <th>0</th>\n",
       "      <td>10477.032261</td>\n",
       "      <td>1449.896585</td>\n",
       "      <td>2134.610366</td>\n",
       "      <td>2676.911855</td>\n",
       "      <td>303.910882</td>\n",
       "      <td>638.049307</td>\n",
       "    </tr>\n",
       "    <tr>\n",
       "      <th>1</th>\n",
       "      <td>8546.485877</td>\n",
       "      <td>16814.666239</td>\n",
       "      <td>23442.281136</td>\n",
       "      <td>2886.340436</td>\n",
       "      <td>10166.785353</td>\n",
       "      <td>3196.508645</td>\n",
       "    </tr>\n",
       "    <tr>\n",
       "      <th>2</th>\n",
       "      <td>7286.102382</td>\n",
       "      <td>6401.458841</td>\n",
       "      <td>9484.059684</td>\n",
       "      <td>1020.880906</td>\n",
       "      <td>3885.461150</td>\n",
       "      <td>1176.597861</td>\n",
       "    </tr>\n",
       "    <tr>\n",
       "      <th>3</th>\n",
       "      <td>52088.493336</td>\n",
       "      <td>16991.503731</td>\n",
       "      <td>11537.501224</td>\n",
       "      <td>28667.836681</td>\n",
       "      <td>1481.166861</td>\n",
       "      <td>13344.836763</td>\n",
       "    </tr>\n",
       "    <tr>\n",
       "      <th>4</th>\n",
       "      <td>23061.961470</td>\n",
       "      <td>4005.311925</td>\n",
       "      <td>4471.159753</td>\n",
       "      <td>6094.025074</td>\n",
       "      <td>648.921919</td>\n",
       "      <td>1770.178352</td>\n",
       "    </tr>\n",
       "  </tbody>\n",
       "</table>\n",
       "</div>"
      ],
      "text/plain": [
       "          Fresh          Milk       Grocery        Frozen  Detergents_Paper  \\\n",
       "0  10477.032261   1449.896585   2134.610366   2676.911855        303.910882   \n",
       "1   8546.485877  16814.666239  23442.281136   2886.340436      10166.785353   \n",
       "2   7286.102382   6401.458841   9484.059684   1020.880906       3885.461150   \n",
       "3  52088.493336  16991.503731  11537.501224  28667.836681       1481.166861   \n",
       "4  23061.961470   4005.311925   4471.159753   6094.025074        648.921919   \n",
       "\n",
       "     Delicassen  \n",
       "0    638.049307  \n",
       "1   3196.508645  \n",
       "2   1176.597861  \n",
       "3  13344.836763  \n",
       "4   1770.178352  "
      ]
     },
     "execution_count": 22,
     "metadata": {},
     "output_type": "execute_result"
    }
   ],
   "source": [
    "cluster_table\n",
    "# avem o analiza prescriptiva\n",
    "#fiecare rand este raand pentru fiecare cluster in parte"
   ]
  },
  {
   "cell_type": "code",
   "execution_count": 23,
   "id": "5fbc7c22",
   "metadata": {},
   "outputs": [
    {
     "data": {
      "text/plain": [
       "Fresh               18855.594273\n",
       "Milk                 7306.652044\n",
       "Grocery              8299.527714\n",
       "Frozen              11550.138072\n",
       "Detergents_Paper     4086.819882\n",
       "Delicassen           5296.574491\n",
       "dtype: float64"
      ]
     },
     "execution_count": 23,
     "metadata": {},
     "output_type": "execute_result"
    }
   ],
   "source": [
    "cluster_table.std()"
   ]
  },
  {
   "cell_type": "code",
   "execution_count": 26,
   "id": "0034ca95",
   "metadata": {},
   "outputs": [
    {
     "data": {
      "text/html": [
       "<div>\n",
       "<style scoped>\n",
       "    .dataframe tbody tr th:only-of-type {\n",
       "        vertical-align: middle;\n",
       "    }\n",
       "\n",
       "    .dataframe tbody tr th {\n",
       "        vertical-align: top;\n",
       "    }\n",
       "\n",
       "    .dataframe thead th {\n",
       "        text-align: right;\n",
       "    }\n",
       "</style>\n",
       "<table border=\"1\" class=\"dataframe\">\n",
       "  <thead>\n",
       "    <tr style=\"text-align: right;\">\n",
       "      <th></th>\n",
       "      <th>Fresh</th>\n",
       "      <th>Milk</th>\n",
       "      <th>Grocery</th>\n",
       "      <th>Frozen</th>\n",
       "    </tr>\n",
       "  </thead>\n",
       "  <tbody>\n",
       "    <tr>\n",
       "      <th>0</th>\n",
       "      <td>10477.032261</td>\n",
       "      <td>1449.896585</td>\n",
       "      <td>2134.610366</td>\n",
       "      <td>2676.911855</td>\n",
       "    </tr>\n",
       "    <tr>\n",
       "      <th>1</th>\n",
       "      <td>8546.485877</td>\n",
       "      <td>16814.666239</td>\n",
       "      <td>23442.281136</td>\n",
       "      <td>2886.340436</td>\n",
       "    </tr>\n",
       "    <tr>\n",
       "      <th>2</th>\n",
       "      <td>7286.102382</td>\n",
       "      <td>6401.458841</td>\n",
       "      <td>9484.059684</td>\n",
       "      <td>1020.880906</td>\n",
       "    </tr>\n",
       "    <tr>\n",
       "      <th>3</th>\n",
       "      <td>52088.493336</td>\n",
       "      <td>16991.503731</td>\n",
       "      <td>11537.501224</td>\n",
       "      <td>28667.836681</td>\n",
       "    </tr>\n",
       "    <tr>\n",
       "      <th>4</th>\n",
       "      <td>23061.961470</td>\n",
       "      <td>4005.311925</td>\n",
       "      <td>4471.159753</td>\n",
       "      <td>6094.025074</td>\n",
       "    </tr>\n",
       "  </tbody>\n",
       "</table>\n",
       "</div>"
      ],
      "text/plain": [
       "          Fresh          Milk       Grocery        Frozen\n",
       "0  10477.032261   1449.896585   2134.610366   2676.911855\n",
       "1   8546.485877  16814.666239  23442.281136   2886.340436\n",
       "2   7286.102382   6401.458841   9484.059684   1020.880906\n",
       "3  52088.493336  16991.503731  11537.501224  28667.836681\n",
       "4  23061.961470   4005.311925   4471.159753   6094.025074"
      ]
     },
     "execution_count": 26,
     "metadata": {},
     "output_type": "execute_result"
    }
   ],
   "source": [
    "cluster_table[['Fresh','Milk','Grocery','Frozen']]"
   ]
  }
 ],
 "metadata": {
  "kernelspec": {
   "display_name": "Python 3",
   "language": "python",
   "name": "python3"
  },
  "language_info": {
   "codemirror_mode": {
    "name": "ipython",
    "version": 3
   },
   "file_extension": ".py",
   "mimetype": "text/x-python",
   "name": "python",
   "nbconvert_exporter": "python",
   "pygments_lexer": "ipython3",
   "version": "3.7.9"
  }
 },
 "nbformat": 4,
 "nbformat_minor": 5
}
