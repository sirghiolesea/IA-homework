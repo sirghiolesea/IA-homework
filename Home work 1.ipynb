{
 "cells": [
  {
   "cell_type": "code",
   "execution_count": 11,
   "id": "b42f73ff",
   "metadata": {},
   "outputs": [
    {
     "name": "stdout",
     "output_type": "stream",
     "text": [
      "a=6\n",
      "b=-12\n",
      "c=0\n",
      "d= 144\n",
      "x1= 0.0\n",
      "x2= 2.0\n"
     ]
    }
   ],
   "source": [
    "a=int(input('a='))\n",
    "b=int(input('b='))\n",
    "c=int(input('c='))\n",
    "d=b*b-4*a*c\n",
    "print('d=',d)\n",
    "import math\n",
    "if d>0:\n",
    "    x1=(-b-math.sqrt(d))/(2*a)\n",
    "    x2=(-b+math.sqrt(d))/(2*a)\n",
    "    print('x1=', x1)\n",
    "    print('x2=', x2)\n",
    "elif d==0:\n",
    "    x1=-b/(2*a)\n",
    "    print('x1=x2=',x1)\n",
    "else:\n",
    "    print('Ecuatia nu are radacini reale.')"
   ]
  },
  {
   "cell_type": "code",
   "execution_count": null,
   "id": "9a994ed5",
   "metadata": {},
   "outputs": [],
   "source": []
  },
  {
   "cell_type": "code",
   "execution_count": null,
   "id": "39472ae7",
   "metadata": {},
   "outputs": [],
   "source": []
  },
  {
   "cell_type": "code",
   "execution_count": null,
   "id": "103c8d0b",
   "metadata": {},
   "outputs": [],
   "source": []
  }
 ],
 "metadata": {
  "kernelspec": {
   "display_name": "Python 3",
   "language": "python",
   "name": "python3"
  },
  "language_info": {
   "codemirror_mode": {
    "name": "ipython",
    "version": 3
   },
   "file_extension": ".py",
   "mimetype": "text/x-python",
   "name": "python",
   "nbconvert_exporter": "python",
   "pygments_lexer": "ipython3",
   "version": "3.7.9"
  }
 },
 "nbformat": 4,
 "nbformat_minor": 5
}
