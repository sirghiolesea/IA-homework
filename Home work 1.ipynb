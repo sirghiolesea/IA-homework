{
 "cells": [
  {
   "cell_type": "code",
   "execution_count": 3,
   "id": "771d6518",
   "metadata": {},
   "outputs": [
    {
     "name": "stdout",
     "output_type": "stream",
     "text": [
      "a=6\n",
      "b=5\n",
      "c=1\n",
      "d= 1\n",
      "x1= -0.5\n",
      "x2= -0.3333333333333333\n"
     ]
    }
   ],
   "source": [
    "a=int(input('a='))\n",
    "b=int(input('b='))\n",
    "c=int(input('c='))\n",
    "d=b*b-4*a*c\n",
    "print('d=',d)\n",
    "import math\n",
    "if d>0:\n",
    "    x1=(-b-math.sqrt(d))/(2*a)\n",
    "    x2=(-b+math.sqrt(d))/(2*a)\n",
    "    print('x1=', x1)\n",
    "    print('x2=', x2)\n",
    "elif d==0:\n",
    "    x1=-b/(2*a)\n",
    "    print('x1=x2=',x1)\n",
    "else:\n",
    "    print('Ecuatia nu are radacini reale.')"
   ]
  },
  {
   "cell_type": "code",
   "execution_count": 5,
   "id": "3574b26b",
   "metadata": {},
   "outputs": [
    {
     "name": "stdout",
     "output_type": "stream",
     "text": [
      "x1=3\n",
      "y1=4\n",
      "x2=7\n",
      "y2=6\n",
      "dst= 4.47213595499958\n"
     ]
    }
   ],
   "source": [
    "x1=int(input('x1='))\n",
    "y1=int(input('y1='))\n",
    "x2=int(input('x2='))\n",
    "y2=int(input('y2='))\n",
    "import math\n",
    "dst=math.sqrt((x2-x1)**2+(y2-y1)**2)\n",
    "print('dst=',dst)"
   ]
  },
  {
   "cell_type": "code",
   "execution_count": null,
   "id": "ab41d274",
   "metadata": {},
   "outputs": [],
   "source": []
  },
  {
   "cell_type": "code",
   "execution_count": null,
   "id": "aa2c9214",
   "metadata": {},
   "outputs": [],
   "source": []
  }
 ],
 "metadata": {
  "kernelspec": {
   "display_name": "Python 3",
   "language": "python",
   "name": "python3"
  },
  "language_info": {
   "codemirror_mode": {
    "name": "ipython",
    "version": 3
   },
   "file_extension": ".py",
   "mimetype": "text/x-python",
   "name": "python",
   "nbconvert_exporter": "python",
   "pygments_lexer": "ipython3",
   "version": "3.7.9"
  }
 },
 "nbformat": 4,
 "nbformat_minor": 5
}
